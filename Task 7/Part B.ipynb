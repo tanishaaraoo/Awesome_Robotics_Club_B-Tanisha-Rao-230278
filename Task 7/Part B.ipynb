{
  "nbformat": 4,
  "nbformat_minor": 0,
  "metadata": {
    "colab": {
      "provenance": [],
      "authorship_tag": "ABX9TyOE21T0yx30lQqC9htF3tLm",
      "include_colab_link": true
    },
    "kernelspec": {
      "name": "python3",
      "display_name": "Python 3"
    },
    "language_info": {
      "name": "python"
    }
  },
  "cells": [
    {
      "cell_type": "markdown",
      "metadata": {
        "id": "view-in-github",
        "colab_type": "text"
      },
      "source": [
        "<a href=\"https://colab.research.google.com/github/tanishaaraoo/Awesome_Robotics_Club_B-Tanisha-Rao-230278/blob/main/Part%20B.ipynb\" target=\"_parent\"><img src=\"https://colab.research.google.com/assets/colab-badge.svg\" alt=\"Open In Colab\"/></a>"
      ]
    },
    {
      "cell_type": "code",
      "execution_count": 1,
      "metadata": {
        "colab": {
          "base_uri": "https://localhost:8080/"
        },
        "id": "HTWLreW_9Hc5",
        "outputId": "66415f7d-d532-47e1-f659-23b1b54da95f"
      },
      "outputs": [
        {
          "output_type": "stream",
          "name": "stdout",
          "text": [
            "[[0 1 0 0 1]\n",
            " [0 1 1 0 0]\n",
            " [0 0 0 0 0]\n",
            " [0 1 0 1 0]\n",
            " [0 0 0 1 0]]\n",
            "Binary grid representation (0: free, 1: obstacle):\n",
            "[[0 1 0 0 1]\n",
            " [0 1 1 0 0]\n",
            " [0 0 0 0 0]\n",
            " [0 1 0 1 0]\n",
            " [0 0 0 1 0]]\n",
            "Shortest path from start to goal (1-based indexing): [(1, 1), (1, 2), (1, 3), (2, 3), (3, 3), (4, 3), (5, 3), (5, 4), (5, 5)]\n"
          ]
        }
      ],
      "source": [
        "import cv2\n",
        "import numpy as np\n",
        "\n",
        "def convert_image_to_grid_array(image_path, grid_rows, grid_cols):\n",
        "    # Load the image\n",
        "    image = cv2.imread(image_path, cv2.IMREAD_GRAYSCALE)\n",
        "\n",
        "    # Apply binary thresholding to make the image black and white\n",
        "    _, thresholded = cv2.threshold(image, 127, 255, cv2.THRESH_BINARY_INV)\n",
        "\n",
        "    # Calculate the size of each cell\n",
        "    cell_height, cell_width = image.shape[0] // grid_rows, image.shape[1] // grid_cols\n",
        "\n",
        "    # Initialize the grid array\n",
        "    grid_array = np.zeros((grid_rows, grid_cols), dtype=int)\n",
        "\n",
        "    # Analyze each cell\n",
        "    for row in range(grid_rows):\n",
        "        for col in range(grid_cols):\n",
        "            # Determine the start and end points of the cell\n",
        "            start_y, start_x = row * cell_height, col * cell_width\n",
        "            end_y, end_x = start_y + cell_height, start_x + cell_width\n",
        "\n",
        "            # Extract the cell using slicing\n",
        "            cell = thresholded[start_y:end_y, start_x:end_x]\n",
        "\n",
        "            # Determine if the cell is predominantly black (obstacle)\n",
        "            if np.count_nonzero(cell) > (cell_height * cell_width) // 2:\n",
        "                grid_array[row, col] = 1  # Mark as obstacle\n",
        "\n",
        "    return grid_array\n",
        "\n",
        "# Path to your grid image\n",
        "image_path = '/content/photo.jpeg'\n",
        "grid_rows, grid_cols = 5, 5  # Adjust based on your grid's dimension\n",
        "\n",
        "# Convert the image to a grid array\n",
        "grid_array = convert_image_to_grid_array(image_path, grid_rows, grid_cols)\n",
        "\n",
        "print(grid_array)\n",
        "#import cv2\n",
        "import numpy as np\n",
        "from queue import Queue\n",
        "\n",
        "def bfs(grid, start, goal):\n",
        "    directions = [(0, -1), (1, 0), (0, 1), (-1, 0)]  # Movement directions: up, down, left, right\n",
        "    visited = set([start])\n",
        "    queue = Queue()\n",
        "    queue.put((start, [start]))  # Store current position and path so far\n",
        "\n",
        "    while not queue.empty():\n",
        "        current, path = queue.get()\n",
        "        if current == goal:\n",
        "            # Adjust path to be 1-based before returning\n",
        "            return [(x+1, y+1) for (x, y) in path]\n",
        "\n",
        "        for dx, dy in directions:\n",
        "            next_pos = (current[0] + dx, current[1] + dy)\n",
        "            if (0 <= next_pos[0] < grid.shape[0] and\n",
        "                0 <= next_pos[1] < grid.shape[1] and\n",
        "                grid[next_pos[1], next_pos[0]] == 0 and  # Corrected grid indexing\n",
        "                next_pos not in visited):\n",
        "\n",
        "                visited.add(next_pos)\n",
        "                queue.put((next_pos, path + [next_pos]))\n",
        "\n",
        "    return None  # If no path found\n",
        "\n",
        "# Assuming 'grid' is defined\n",
        "# Adjust 'start' and 'goal' to be 0-based for Python indexing\n",
        "adjusted_start = (0, 0)  # Adjust for Python's 0-based indexing\n",
        "adjusted_goal = (4, 4)  # Adjust for Python's 0-based indexing\n",
        "\n",
        "# Call BFS with adjusted start and goal\n",
        "path = bfs(grid_array, adjusted_start, adjusted_goal)\n",
        "print(\"Binary grid representation (0: free, 1: obstacle):\")\n",
        "print(grid_array)\n",
        "if path:\n",
        "    print(\"Shortest path from start to goal (1-based indexing):\", path)\n",
        "else:\n",
        "    print(\"No path found.\")"
      ]
    }
  ]
}
