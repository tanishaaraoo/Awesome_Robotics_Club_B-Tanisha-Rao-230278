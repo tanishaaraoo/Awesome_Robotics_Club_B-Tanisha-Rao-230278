{
  "nbformat": 4,
  "nbformat_minor": 0,
  "metadata": {
    "colab": {
      "provenance": [],
      "authorship_tag": "ABX9TyMHq63sXSpmdF9rhnctiQSd",
      "include_colab_link": true
    },
    "kernelspec": {
      "name": "python3",
      "display_name": "Python 3"
    },
    "language_info": {
      "name": "python"
    }
  },
  "cells": [
    {
      "cell_type": "markdown",
      "metadata": {
        "id": "view-in-github",
        "colab_type": "text"
      },
      "source": [
        "<a href=\"https://colab.research.google.com/github/tanishaaraoo/Awesome_Robotics_Club_B-Tanisha-Rao-230278/blob/main/Part%20A.ipynb\" target=\"_parent\"><img src=\"https://colab.research.google.com/assets/colab-badge.svg\" alt=\"Open In Colab\"/></a>"
      ]
    },
    {
      "cell_type": "code",
      "execution_count": null,
      "metadata": {
        "id": "hNkoyYKP7wJY"
      },
      "outputs": [],
      "source": [
        "import numpy as np\n",
        "import cv2\n",
        "from matplotlib import pyplot as plt\n",
        "image = cv2.imread('/content/photo.jpeg',1)\n",
        "image_bw = cv2.imread('/content/photo.jpeg',0)\n",
        "noiseless_image_bw = cv2.fastNlMeansDenoising(image_bw, None, 20, 7, 21)\n",
        "noiseless_image_colored = cv2.fastNlMeansDenoisingColored(image,None,20,20,7,21)\n",
        "titles = ['Original Image(colored)','Image after removing the noise (colored)', 'Original Image (grayscale)','Image after removing the noise (grayscale)']\n",
        "images = [image,noiseless_image_colored, image_bw, noiseless_image_bw]\n",
        "plt.figure(figsize=(13,5))\n",
        "for i in range(4):\n",
        "    plt.subplot(2,2,i+1)\n",
        "    plt.imshow(cv2.cvtColor(images[i],cv2.COLOR_BGR2RGB))\n",
        "    plt.title(titles[i])\n",
        "    plt.xticks([])\n",
        "    plt.yticks([])\n",
        "plt.tight_layout()\n",
        "plt.show()"
      ]
    }
  ]
}
